{
  "nbformat": 4,
  "nbformat_minor": 0,
  "metadata": {
    "colab": {
      "name": "Introduction.ipynb",
      "provenance": [],
      "authorship_tag": "ABX9TyPlZaj7rLAUmNQq2eeMpvmI",
      "include_colab_link": true
    },
    "kernelspec": {
      "name": "python3",
      "display_name": "Python 3"
    },
    "language_info": {
      "name": "python"
    }
  },
  "cells": [
    {
      "cell_type": "markdown",
      "metadata": {
        "id": "view-in-github",
        "colab_type": "text"
      },
      "source": [
        "<a href=\"https://colab.research.google.com/github/Arismos/Arismos/blob/main/Introduction.ipynb\" target=\"_parent\"><img src=\"https://colab.research.google.com/assets/colab-badge.svg\" alt=\"Open In Colab\"/></a>"
      ]
    },
    {
      "cell_type": "code",
      "metadata": {
        "colab": {
          "base_uri": "https://localhost:8080/",
          "height": 35
        },
        "id": "nBh-cVUslCXE",
        "outputId": "30619718-a115-44d4-fe73-0d6b50be641f"
      },
      "source": [
        "import numpy as np\n",
        "np.__version__"
      ],
      "execution_count": 6,
      "outputs": [
        {
          "output_type": "execute_result",
          "data": {
            "application/vnd.google.colaboratory.intrinsic+json": {
              "type": "string"
            },
            "text/plain": [
              "'1.19.5'"
            ]
          },
          "metadata": {
            "tags": []
          },
          "execution_count": 6
        }
      ]
    },
    {
      "cell_type": "markdown",
      "metadata": {
        "id": "5zrDk_RAquIl"
      },
      "source": [
        "# Markdown\n",
        "\n",
        "## Examples of Markdown\n",
        "\n",
        "Examples of *Markdown*\n",
        "\n",
        "Examples of **Markdown**\n",
        "\n",
        "Examples of __markdown__\n",
        "\n",
        "Examples of `Markdown`\n",
        "\n",
        "```\n",
        "Examples of Markdown\n",
        "```\n",
        "\n",
        ">Python\n",
        ">> Code\n",
        "\n",
        "## An Ordered List\n",
        "\n",
        "1. One\n",
        "2. Two\n",
        "3. Three\n",
        "\n",
        "## An Unordered List\n",
        "\n",
        "* One \n",
        "* Two\n",
        "* Three\n",
        "\n",
        "## Inserting a link\n",
        "\n",
        "[Google](https://www.google.com/webhp?hl=en&ictx=2&sa=X&ved=0ahUKEwjZ9ciWku3xAhU3zjgGHV1uCHsQPQgJ)\n",
        "\n",
        "## Inserting an Image\n",
        "\n",
        "![Python](https://engineering.fb.com/wp-content/uploads/2016/05/2000px-Python-logo-notext.svg_.png)\n",
        "\n",
        "## Including Mathematical Equations\n",
        "\n",
        "$E = mc^2$\n",
        "\n",
        "$A = \\begin{pmatrix}\n",
        "a_{1,1} & a_{1,2}\\\\\n",
        "a_{2,1} & a_{2,2}\n",
        "\\end{pmatrix}$\n",
        "\n",
        "## Tables\n",
        "\n",
        "col1 | col2 | col3\n",
        "---|---|---\n",
        "val1|val2|val3\n",
        "val4|val5|val6\n"
      ]
    },
    {
      "cell_type": "code",
      "metadata": {
        "id": "e3Nk_CNCrKZx"
      },
      "source": [
        ""
      ],
      "execution_count": null,
      "outputs": []
    }
  ]
}