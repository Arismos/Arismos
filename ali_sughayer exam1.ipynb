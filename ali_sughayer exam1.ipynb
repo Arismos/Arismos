{
 "cells": [
  {
   "cell_type": "markdown",
   "metadata": {},
   "source": [
    "# IE 419: Industrial Engineering Computer Applications\n",
    "## Instructor: Dr. Joseph Ekong\n",
    "## Exam 1 \n",
    "## Due Date: 09: 20 am Thursday, October 14, 2021\n",
    "### Questions 1 - 6 are worth 20 points each. You are required to answer 4 questions from Section A and the Mandatory Problem in Section B"
   ]
  },
  {
   "cell_type": "markdown",
   "metadata": {},
   "source": [
    "<b> Note: Submit Exam as a \".ipynb\" file to Kodiak. Name your .ipynb file as “Yourname_Exam1.ipynb\" before submitting."
   ]
  },
  {
   "cell_type": "markdown",
   "metadata": {},
   "source": [
    "* Using the note taking capability of Jupyter Notebook, include your name in the line provided below. "
   ]
  },
  {
   "cell_type": "markdown",
   "metadata": {},
   "source": [
    "Ali Sughayer"
   ]
  },
  {
   "cell_type": "markdown",
   "metadata": {},
   "source": [
    "### Section A"
   ]
  },
  {
   "cell_type": "markdown",
   "metadata": {},
   "source": [
    "### Question 1\n",
    "\n",
    "My_List is a Python list object defined as [[12,4,84,5],7,\"Exam!\",[2,7],[6,3,[1,8,'Great']]]\n",
    "* Write a code that will give the output below, exactly the way it appears.\n",
    "\n",
    "<b> Note: My_List is already included in the cell to save you time and ensure no error is introduced!"
   ]
  },
  {
   "cell_type": "code",
   "execution_count": null,
   "metadata": {},
   "outputs": [],
   "source": [
    "My_List = [[12,4,84,5],7,\"Exam!\",[2,7],[6,3,[1,8,'Great']]]"
   ]
  },
  {
   "cell_type": "code",
   "execution_count": null,
   "metadata": {},
   "outputs": [],
   "source": [
    "print(My_List)"
   ]
  },
  {
   "cell_type": "code",
   "execution_count": null,
   "metadata": {},
   "outputs": [],
   "source": [
    "mylist1= [12,4,84,5,7,\"Exam!\",2,7,6,3,1,8,'Great']"
   ]
  },
  {
   "cell_type": "code",
   "execution_count": null,
   "metadata": {},
   "outputs": [],
   "source": []
  },
  {
   "cell_type": "code",
   "execution_count": null,
   "metadata": {},
   "outputs": [],
   "source": [
    "list2= mylist1[24:] + mylist1[7:14]\n",
    "list2"
   ]
  },
  {
   "cell_type": "code",
   "execution_count": null,
   "metadata": {},
   "outputs": [],
   "source": []
  },
  {
   "cell_type": "code",
   "execution_count": null,
   "metadata": {},
   "outputs": [],
   "source": []
  },
  {
   "cell_type": "code",
   "execution_count": null,
   "metadata": {},
   "outputs": [],
   "source": []
  },
  {
   "cell_type": "code",
   "execution_count": null,
   "metadata": {},
   "outputs": [],
   "source": []
  },
  {
   "cell_type": "code",
   "execution_count": null,
   "metadata": {},
   "outputs": [],
   "source": []
  },
  {
   "cell_type": "code",
   "execution_count": null,
   "metadata": {},
   "outputs": [],
   "source": [
    "list1= My_List[12:18] +My_List [24:]\n",
    "list1"
   ]
  },
  {
   "cell_type": "code",
   "execution_count": null,
   "metadata": {},
   "outputs": [],
   "source": []
  },
  {
   "cell_type": "code",
   "execution_count": null,
   "metadata": {},
   "outputs": [],
   "source": [
    "list1"
   ]
  },
  {
   "cell_type": "code",
   "execution_count": null,
   "metadata": {},
   "outputs": [],
   "source": []
  },
  {
   "cell_type": "code",
   "execution_count": null,
   "metadata": {},
   "outputs": [],
   "source": []
  },
  {
   "cell_type": "code",
   "execution_count": null,
   "metadata": {},
   "outputs": [],
   "source": []
  },
  {
   "cell_type": "code",
   "execution_count": null,
   "metadata": {},
   "outputs": [],
   "source": []
  },
  {
   "cell_type": "code",
   "execution_count": null,
   "metadata": {},
   "outputs": [],
   "source": [
    "\n"
   ]
  },
  {
   "cell_type": "markdown",
   "metadata": {},
   "source": [
    "### Question 2\n",
    "By using one print function (only), please print the following statement in the format that it is given (in three consecutive rows, without anything in between). \n",
    "* Thanksgiving holiday is almost here\n",
    "* I will be taking a trip to New York City \n",
    "* To watch Macy's Thanksgiving Day Parade!\n",
    "\n",
    "<b> Note: You can only use one cell to code your operation\n",
    "    \n",
    "<b> Note: YOU MUST USE ONLY ONE PRINT STATEMENT!!!"
   ]
  },
  {
   "cell_type": "code",
   "execution_count": null,
   "metadata": {},
   "outputs": [],
   "source": [
    "print('Thanksgiving holiday is almost here \\nI will be taking a trip to New York City \\nTo watch Macys Thanksgiving Day Parade!')"
   ]
  },
  {
   "cell_type": "markdown",
   "metadata": {},
   "source": [
    "### Question 3"
   ]
  },
  {
   "cell_type": "markdown",
   "metadata": {},
   "source": [
    "In mathematics, an ellipse is a plane curve surrounding two focal points. The circumference of an ellipse can be approximated by the equation:\n",
    "\n",
    "C = π[3(a+b) - $\\sqrt{(3a+b)(a+3b)}$].\n",
    "\n",
    "Use the equation to write a program that takes the inputs a & b and computes the circumference of an ellipse. Use your program to compute the case where your variables are a = 16 in. and b = 11 in.\n",
    "\n",
    "<b> Your final output should state the units of your answer (in this case \"inches\")"
   ]
  },
  {
   "cell_type": "code",
   "execution_count": null,
   "metadata": {},
   "outputs": [],
   "source": []
  },
  {
   "cell_type": "code",
   "execution_count": null,
   "metadata": {},
   "outputs": [],
   "source": []
  },
  {
   "cell_type": "code",
   "execution_count": null,
   "metadata": {},
   "outputs": [],
   "source": []
  },
  {
   "cell_type": "markdown",
   "metadata": {},
   "source": [
    "### Question 4\n",
    "Consider a problem where an officer need to decide if a driver should be penalized for a possible speeding violation. There are three possible outcomes:\n",
    "* \"Great News! No ticket today.\": This occurs if the officer determines that the  speed is less than 60 miles per hour. The officer is fine and lets the driver go.\n",
    "* \"I'll give you a warning this time\": This occurs if the officer determines that the driver's speed is between 60 and 70 miles per hour. In this case, the officer issues the driver a warning citation.\n",
    "* \"Sorry, I'll have to give you a ticket\": This occurs if the officer determines that the driver's speed is 70 miles per hour or more. In this case, the officer issues the driver a ticket.\n",
    "\n",
    "The officer however values people's birthdays and tries not to spoil it with citations. So, if it is a person's birthday, the officer takes off 5 in determining the person's speed. Your services as a Python expert is requested to help develop codes to help the police officer in making such decisions. Write a program that defines a function that takes in a driver's actual speed and whether it is the driver's birthday (Boolean input True or False) and based on these information, determines the speed used by the officer in making his determination and the resulting outcome of the stop.\n",
    "\n",
    "Note: Use a variable of your choice to define your function.    "
   ]
  },
  {
   "cell_type": "code",
   "execution_count": null,
   "metadata": {},
   "outputs": [],
   "source": [
    "y= input"
   ]
  },
  {
   "cell_type": "code",
   "execution_count": null,
   "metadata": {},
   "outputs": [],
   "source": [
    "y = input(\"Enter a speed: \")\n",
    "c = input(\"Enter 1 if birthday :\")\n",
    "n = int(float(y))\n",
    "\n",
    "\n",
    "if c==1 :\n",
    "    n=(n-5)\n",
    "if n < 60:\n",
    "    print(\"Great News! No ticket today.\")\n",
    "\n",
    "if n >= 60 <=70:\n",
    "        if n <=70:\n",
    "            print(\"I'll give you a warning this time\")\n",
    "\n",
    "\n",
    "if n > 70:\n",
    "     print(\"Sorry, I'll have to give you a ticket\")\n",
    "\n",
    "if c==1 :\n",
    "    n=(n-5)\n",
    "    "
   ]
  },
  {
   "cell_type": "code",
   "execution_count": null,
   "metadata": {},
   "outputs": [],
   "source": []
  },
  {
   "cell_type": "markdown",
   "metadata": {},
   "source": [
    "### Question 5"
   ]
  },
  {
   "cell_type": "markdown",
   "metadata": {},
   "source": [
    "The number of combinations $C_{n,r}$ of taking r objects out of n objects is given by the equation:\n",
    "\n",
    "$C_{n,r}$ = $\\frac{n!}{r!(n-r)!}$\n",
    "\n",
    "Write a Python program that computes the number of possible combinations of selecting 3 books drawn out of a set of 7 books. Recall that we developed a function for computing factorials in Assignment 2. \n",
    "\n",
    "<b> Note: Your program should work for different choices of n & r. We assume that the user understands that n should be greater than or equals to r.\n",
    "    \n",
    "<b> Hint: You can use that factorial function we deveopled in Assignment 2 in your program, rather than starting all over. However, you'll need to understand how to integrate it properly to solve the problem at hand."
   ]
  },
  {
   "cell_type": "code",
   "execution_count": null,
   "metadata": {},
   "outputs": [],
   "source": [
    "#Program to calculate the possible number of combinations\n",
    "\n",
    "n = int(input(\"Please Enter the value of n: \"))\n",
    "fact1 = 1\n",
    "for i in range(1,n+1):\n",
    "    fact1 = fact1 * i \n",
    "\n",
    "r = int(input(\"Please Enter the value of r: \"))\n",
    "fact2 = 1\n",
    "for i in range(1,r+1):\n",
    "    fact2 = fact2 * i \n",
    "\n",
    "fact3 = 1\n",
    "for i in range(1,(n-r)+1):\n",
    "    fact3 = fact3 * i\n",
    "    \n",
    "print(\"There are a total of {} number of combinations possible\".format(int(fact1/(fact2*fact3))))"
   ]
  },
  {
   "cell_type": "markdown",
   "metadata": {},
   "source": [
    "### Section B"
   ]
  },
  {
   "cell_type": "markdown",
   "metadata": {},
   "source": [
    "### Mandatory Problem"
   ]
  },
  {
   "cell_type": "markdown",
   "metadata": {},
   "source": [
    "You are to write a program that will help students to run a summary report for their semester average performance. The program should work as follows:\n",
    "* Should ask the student for the number of courses taken during the semester\n",
    "* The students should be able to enter the course name, the credit units for the course and the corresponding score for each of the courses taken\n",
    "* The program should compute the student's GPA for the semester (assume all courses have similar weight)\n",
    "* Note: The report should start with the heading \"Semester GPA Summary Report:\"\n",
    "\n",
    "<b> You'll be given a grading system to use for the GPA computation\n",
    "\n",
    "An example of the report is shown below:"
   ]
  },
  {
   "cell_type": "markdown",
   "metadata": {},
   "source": [
    "Semester Summary Report:\n",
    "\n",
    "Courses  - Credit Units - Scores (Note: You can omit/ignore this line if you wish)\n",
    "    \n",
    "ENGR 101     - 4 -   98\n",
    "\n",
    "IE 101       - 3 -   97\n",
    "\n",
    "ME 101       - 3 -   80\n",
    "\n",
    "BME 101      - 2 -   94"
   ]
  },
  {
   "cell_type": "markdown",
   "metadata": {},
   "source": [
    "Semester GPA - 3.75\n",
    "\n",
    "Using the program you wrote, reproduce the example report shown above.\n",
    "\n",
    "<b> Note: The GPA should be reported to two decimal places"
   ]
  },
  {
   "cell_type": "markdown",
   "metadata": {},
   "source": [
    "<b> The formula for for GPA computation is provided below:\n",
    "\n",
    "GPA Calcultaion = $\\frac{\\sum_{i=1}^{n}(CU_i * Scale_i)}{\\sum_{i=1}^{n}CU_i}$"
   ]
  },
  {
   "cell_type": "code",
   "execution_count": null,
   "metadata": {},
   "outputs": [],
   "source": [
    "number = int(input(\"Enter the number of courses taken: \"))\n",
    "name  = []\n",
    "unit = []\n",
    "score = []\n",
    "for i in range(0,number):\n",
    "    print(\"\\nCourse \",i+1)\n",
    "    name.append(input(\"Enter the name of the course: \"))\n",
    "    unit.append(int(input(\"Enter the unit of the course: \")))\n",
    "    score.append(int(input(\"Enter the score of the course: \")))\n",
    "    \n",
    "##################################\n",
    "print(\"\\nSemester GPA Summary Report\")\n",
    "print(\"\\nCourse - Credit Score - Unit\")\n",
    "for i in range(0,number):\n",
    "    print(name[i],\" - - \",unit[i],\" - - - \",score[i])\n",
    "    \n",
    "s1 = 0\n",
    "s2 = 0\n",
    "\n",
    "for i in range(len(unit)):\n",
    "    s1 = s1 + (unit[i]*score[i])\n",
    "    s2 = s2 + score[i]\n",
    "\n",
    "gpa = s1/s2\n",
    "\n",
    "print(\"Semester GPA = {}\".format(round(gpa,2)))"
   ]
  },
  {
   "cell_type": "markdown",
   "metadata": {},
   "source": [
    "#### Good Luck!"
   ]
  }
 ],
 "metadata": {
  "kernelspec": {
   "display_name": "Python 3",
   "language": "python",
   "name": "python3"
  },
  "language_info": {
   "codemirror_mode": {
    "name": "ipython",
    "version": 3
   },
   "file_extension": ".py",
   "mimetype": "text/x-python",
   "name": "python",
   "nbconvert_exporter": "python",
   "pygments_lexer": "ipython3",
   "version": "3.7.6"
  }
 },
 "nbformat": 4,
 "nbformat_minor": 2
}
